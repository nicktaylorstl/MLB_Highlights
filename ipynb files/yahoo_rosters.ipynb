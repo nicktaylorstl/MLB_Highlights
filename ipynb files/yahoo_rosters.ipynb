{
 "cells": [
  {
   "cell_type": "code",
   "execution_count": 25,
   "metadata": {},
   "outputs": [],
   "source": [
    "import csv\n",
    "import unidecode\n",
    "import re\n",
    "from datetime import datetime, timedelta\n",
    "\n",
    "yahoo_rosters_filepath = \"../data/daily_yahoo_rosters.csv\"\n",
    "dates = ['2024-02-22','2024-02-23','2024-02-24','2024-02-25','2024-02-26','2024-02-27','2024-02-28','2024-02-29','2024-03-01','2024-03-02','2024-03-03','2024-03-04','2024-03-05','2024-03-06','2024-03-07','2024-03-08','2024-03-09','2024-03-10']\n",
    "\n",
    "def yesterday(frmt='%Y-%m-%d', string=True):\n",
    "    yesterday = datetime.now() - timedelta(1)\n",
    "    if string:\n",
    "        return yesterday.strftime(frmt)\n",
    "    return yesterday\n",
    "\n",
    "def update_yahoo_roster(date):\n",
    "    def remove_parentheses(input_string):\n",
    "        pattern = r'\\s*\\([^)]*\\)'\n",
    "        result = re.sub(pattern, '', input_string)\n",
    "        \n",
    "        return result\n",
    "\n",
    "    def roster_to_csv(highlight_str, filepath):\n",
    "        with open(filepath, 'a', newline='',encoding='utf-8') as csv_file:\n",
    "            csv_writer = csv.writer(csv_file)\n",
    "            csv_writer.writerow(highlight_str)\n",
    "\n",
    "    teams = {}\n",
    "\n",
    "    with open('../data/teams.csv', newline='',encoding='utf-8') as csvfile:\n",
    "        reader = csv.DictReader(csvfile)\n",
    "        for row in reader:\n",
    "            teams[int(row['team_id'])] = {\"name\": row[\"name\"], \"roster\":[]}\n",
    "\n",
    "    with open('../data/rosters.csv', newline='',encoding='utf-8') as csvfile:\n",
    "        reader = csv.DictReader(csvfile)\n",
    "        for row in reader:\n",
    "            date = date\n",
    "            team_id = int(row['team_code'][14:])\n",
    "            team_name = teams[team_id][\"name\"]\n",
    "            mlb_team_name = row['editorial_team_full_name']\n",
    "            full_name = unidecode.unidecode(row['full_name'])\n",
    "            player_name = remove_parentheses(full_name)\n",
    "            primary_position = row['primary_position']\n",
    "            teams[team_id][\"roster\"].append(full_name)\n",
    "            time_of_insertion = datetime.now()\n",
    "            inserted = time_of_insertion.strftime('%Y-%m-%d %H:%M:%S')\n",
    "            roster_update = date,team_id,team_name,mlb_team_name,player_name,primary_position,inserted\n",
    "            roster_to_csv(roster_update,yahoo_rosters_filepath)\n",
    "        "
   ]
  },
  {
   "cell_type": "code",
   "execution_count": 26,
   "metadata": {},
   "outputs": [],
   "source": [
    "for date in dates:\n",
    "    update_yahoo_roster(date)"
   ]
  }
 ],
 "metadata": {
  "kernelspec": {
   "display_name": "Python 3",
   "language": "python",
   "name": "python3"
  },
  "language_info": {
   "codemirror_mode": {
    "name": "ipython",
    "version": 3
   },
   "file_extension": ".py",
   "mimetype": "text/x-python",
   "name": "python",
   "nbconvert_exporter": "python",
   "pygments_lexer": "ipython3",
   "version": "3.12.0"
  }
 },
 "nbformat": 4,
 "nbformat_minor": 2
}
