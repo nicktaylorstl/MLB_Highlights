{
 "cells": [
  {
   "cell_type": "code",
   "execution_count": 1,
   "metadata": {},
   "outputs": [],
   "source": [
    "import sqlite3\n",
    "import pandas as pd\n",
    "\n"
   ]
  },
  {
   "cell_type": "code",
   "execution_count": 2,
   "metadata": {},
   "outputs": [],
   "source": [
    "# conn = sqlite3.connect('../data/MLB_Highlights.db')\n",
    "# cur = conn.cursor()\n",
    "# res = cur.execute(\"\"\"\n",
    "#                 with source as \n",
    "#                     (select g.game_id, g.date, g.away_name, g.home_name, h.player_name, h.headline, h.description, h.mp4_url \n",
    "#                     from highlights_2024_pre as h\n",
    "#                     LEFT join game_data_2024_pre as g on g.game_id = h.game_id)\n",
    "\n",
    "#                 select s.*, y.team_id, y.team_name as yahoo_team_name, y.mlb_team_name,y.primary_position\n",
    "#                 from source as s\n",
    "#                 left join yahoo_rosters_2024_pre as y on s.player_name = y.player_name and s.date =y.date\n",
    "#                 \"\"\")\n",
    "# data = res.fetchall()\n",
    "# cur.close()\n",
    "\n",
    "# cur=conn.cursor()\n",
    "# cur.execute(\"\"\"\n",
    "#             CREATE TABLE IF NOT EXISTS yahoo_highlights_2024_pre (\n",
    "#         game_id INTEGER,\n",
    "#         date DATE,\n",
    "#         away_name STRING,\n",
    "#         home_name STRING,\n",
    "#         player_name STRING,\n",
    "#         headline STRING,\n",
    "#         description STRING,\n",
    "#         mp4_url STRING,\n",
    "#         team_id INTEGER,\n",
    "#         yahoo_team_name STRING,\n",
    "#         mlb_team_name STRING,\n",
    "#         primary_position STRING\n",
    "#     )\n",
    "# \"\"\")\n",
    "\n",
    "# cur.executemany(\"INSERT INTO yahoo_highlights_2024_pre VALUES (?,?,?,?,?,?,?,?,?,?,?,?)\",data)\n",
    "# conn.commit()\n",
    "# conn.close()\n",
    "\n",
    "# for item in data:\n",
    "#     print(item)"
   ]
  },
  {
   "cell_type": "code",
   "execution_count": 7,
   "metadata": {},
   "outputs": [],
   "source": [
    "conn = sqlite3.connect('../data/MLB_Highlights.db')\n",
    "cur = conn.cursor()\n",
    "res = cur.execute(\"\"\"\n",
    "                SELECT * FROM yahoo_highlights_2024 WHERE player_name LIKE '%Almora%'\n",
    "                \"\"\")\n",
    "data = res.fetchall()"
   ]
  },
  {
   "cell_type": "code",
   "execution_count": 8,
   "metadata": {},
   "outputs": [
    {
     "name": "stdout",
     "output_type": "stream",
     "text": [
      "(747820, '2024-03-24', 'D-backs', 'Brewers', 'Albert Almora', \"Albert Almora Jr.'s RBI double\", \"Albert Almora Jr. extends the D-backs' lead to 2-0 in the top of the 2nd inning with an RBI double against the Brewers\", 'https://mlb-cuts-diamond.mlb.com/FORGE/2024/2024-03/24/f22ecd4e-c77fbce8-d049c7fd-csvm-diamondx64-asset_1280x720_59_4000K.mp4', None, None, None, None)\n"
     ]
    }
   ],
   "source": [
    "for item in data:\n",
    "    print(item)"
   ]
  },
  {
   "cell_type": "code",
   "execution_count": null,
   "metadata": {},
   "outputs": [],
   "source": []
  }
 ],
 "metadata": {
  "kernelspec": {
   "display_name": "Python 3",
   "language": "python",
   "name": "python3"
  },
  "language_info": {
   "codemirror_mode": {
    "name": "ipython",
    "version": 3
   },
   "file_extension": ".py",
   "mimetype": "text/x-python",
   "name": "python",
   "nbconvert_exporter": "python",
   "pygments_lexer": "ipython3",
   "version": "3.12.0"
  }
 },
 "nbformat": 4,
 "nbformat_minor": 2
}
