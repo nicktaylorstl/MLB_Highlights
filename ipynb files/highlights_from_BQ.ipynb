{
 "cells": [
  {
   "cell_type": "code",
   "execution_count": 2,
   "metadata": {},
   "outputs": [],
   "source": [
    "from google.cloud import bigquery\n",
    "from google.oauth2 import service_account\n",
    "from datetime import datetime, timedelta\n",
    "import pytz\n",
    "\n",
    "credentials = service_account.Credentials.from_service_account_file(\n",
    "    '../secrets/google_key.json'\n",
    ")\n",
    "client = bigquery.Client(credentials=credentials)\n",
    "\n",
    "project_id = 'mlbhighlights'\n",
    "dataset_id = 'highlights'\n",
    "table_id = '2024_pre'\n",
    "\n",
    "table_ref = client.dataset(dataset_id).table(table_id)\n",
    "table = client.get_table(table_ref)"
   ]
  },
  {
   "cell_type": "code",
   "execution_count": 3,
   "metadata": {},
   "outputs": [],
   "source": [
    "\n",
    "yesterday = datetime.now() - timedelta(1)\n",
    "yesterday= yesterday.strftime(f'%Y-%m-%d')\n",
    "\n",
    "today = datetime.now()\n",
    "today = today.strftime(f'%Y-%m-%d')\n",
    "\n",
    "\n",
    "def player_search(player, start_date=yesterday, end_date=today):\n",
    "    query = f\"\"\"\n",
    "        SELECT * \n",
    "        FROM {project_id}.{dataset_id}.{table_id}\n",
    "        WHERE date >= '{start_date}' and date <= '{end_date} 23:59:59' and player_name like concat('%','{player}','%')\n",
    "    \"\"\"\n",
    "    query_job = client.query(query)\n",
    "    results = query_job.result()\n",
    "\n",
    "    highlight_list = []\n",
    "    for row in results:\n",
    "        date = row[1].astimezone(pytz.timezone('US/Eastern'))\n",
    "        name = row[2]\n",
    "        headline = row[4]\n",
    "        description = row[6]\n",
    "        url = row[7]\n",
    "        highlight = [date,name,headline,description,url]\n",
    "        highlight_list.append(highlight)\n",
    "    return highlight_list"
   ]
  },
  {
   "cell_type": "code",
   "execution_count": 8,
   "metadata": {},
   "outputs": [
    {
     "name": "stdout",
     "output_type": "stream",
     "text": [
      "[datetime.datetime(2024, 2, 29, 15, 15, 13, 581000, tzinfo=<DstTzInfo 'US/Eastern' EST-1 day, 19:00:00 STD>), 'Jackson Holliday', \"Check out Jackson Holliday's RBI triple\", \"Check out a unique angle of Jackson Holliday's game-tying RBI triple in the bottom of the 6th inning against the Pirates #CreatorCuts\", 'https://mlb-cuts-diamond.mlb.com/FORGE/2024/2024-02/29/85fb9b6d-463a784d-294a01e4-csvm-diamondx64-asset_1280x720_59_4000K.mp4']\n",
      "[datetime.datetime(2024, 2, 29, 16, 4, 11, 475000, tzinfo=<DstTzInfo 'US/Eastern' EST-1 day, 19:00:00 STD>), 'Jackson Holliday', \"Radio call of Jackson Holliday's RBI triple\", \"Listen to the radio call of Jackson Holliday's game-tying RBI triple in the bottom of the 6th inning against the Pirates\", 'https://mlb-cuts-diamond.mlb.com/FORGE/2024/2024-02/29/bbd91d72-71d590ca-60ad936a-csvm-diamondx64-asset_1280x720_59_4000K.mp4']\n",
      "[datetime.datetime(2024, 2, 29, 16, 35, 26, 914000, tzinfo=<DstTzInfo 'US/Eastern' EST-1 day, 19:00:00 STD>), 'Jackson Holliday', \"Field view of Jackson Holliday's single in the 5th\", \"Check out this unique angle of Jackson Holliday's hard-hit single in the 5th inning against the Pirates #CreatorCuts\", 'https://mlb-cuts-diamond.mlb.com/FORGE/2024/2024-02/29/8d852c21-2ffc1c8e-f689a051-csvm-diamondx64-asset_1280x720_59_4000K.mp4']\n",
      "[datetime.datetime(2024, 3, 5, 13, 36, 31, 922000, tzinfo=<DstTzInfo 'US/Eastern' EST-1 day, 19:00:00 STD>), 'Jackson Holliday', 'Jackson Holliday lines a double to right-center field', \"Orioles' No. 1 prospect Jackson Holliday leads off against the Phillies by lining a double to right-center field\", 'https://mlb-cuts-diamond.mlb.com/FORGE/2024/2024-03/05/b1839ded-8095e0a0-de38e685-csvm-diamondx64-asset_1280x720_59_4000K.mp4']\n",
      "[datetime.datetime(2024, 3, 5, 15, 23, 57, 96000, tzinfo=<DstTzInfo 'US/Eastern' EST-1 day, 19:00:00 STD>), 'Jackson Holliday', 'Jackson Holliday collects three hits vs. the Phillies', \"Orioles' No. 1 prospect Jackson Holliday collects three hits and a stolen base in a Spring Training matchup against the Phillies\", 'https://mlb-cuts-diamond.mlb.com/FORGE/2024/2024-03/05/490abea5-a5efddea-e5173183-csvm-diamondx64-asset_1280x720_59_4000K.mp4']\n",
      "[datetime.datetime(2024, 3, 10, 13, 25, 9, 65000, tzinfo=<DstTzInfo 'US/Eastern' EDT-1 day, 20:00:00 DST>), 'Jackson Holliday', \"Jackson Holliday's 1st-inning grand slam\", 'Jackson Holliday crushes a grand slam for his first Spring training home run, giving the Orioles a 5-0 lead in the 1st', 'https://mlb-cuts-diamond.mlb.com/FORGE/2024/2024-03/10/c33b7e73-eb559f57-91559294-csvm-diamondx64-asset_1280x720_59_4000K.mp4']\n"
     ]
    }
   ],
   "source": [
    "list = player_search('Holliday','2024-02-01')\n",
    "for h in list:\n",
    "    print(h)"
   ]
  },
  {
   "cell_type": "code",
   "execution_count": null,
   "metadata": {},
   "outputs": [],
   "source": []
  }
 ],
 "metadata": {
  "kernelspec": {
   "display_name": "Python 3",
   "language": "python",
   "name": "python3"
  },
  "language_info": {
   "codemirror_mode": {
    "name": "ipython",
    "version": 3
   },
   "file_extension": ".py",
   "mimetype": "text/x-python",
   "name": "python",
   "nbconvert_exporter": "python",
   "pygments_lexer": "ipython3",
   "version": "3.12.0"
  }
 },
 "nbformat": 4,
 "nbformat_minor": 2
}
