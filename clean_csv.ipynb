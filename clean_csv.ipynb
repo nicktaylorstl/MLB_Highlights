{
 "cells": [
  {
   "cell_type": "code",
   "execution_count": 17,
   "metadata": {},
   "outputs": [],
   "source": [
    "\n",
    "import csv\n",
    "import unidecode\n",
    "\n",
    "def clean_text(text):\n",
    "    # Remove accents from the text\n",
    "    cleaned_text = unidecode.unidecode(text)\n",
    "    return cleaned_text\n",
    "\n",
    "def clean_csv(input_file, output_file):\n",
    "    with open(input_file, 'r', encoding='utf-8', newline='') as csv_input, \\\n",
    "         open(output_file, 'w', encoding='utf-8', newline='') as csv_output:\n",
    "        reader = csv.reader(csv_input)\n",
    "        writer = csv.writer(csv_output)\n",
    "        for row in reader:\n",
    "            cleaned_row = [clean_text(cell) for cell in row]\n",
    "            writer.writerow(cleaned_row)\n",
    "# Example usage\n",
    "input_file = \"data/highlights_2023.csv\"\n",
    "output_file = \"data/highlights_2023_corrected.csv\"\n",
    "clean_csv(input_file, output_file)\n"
   ]
  },
  {
   "cell_type": "code",
   "execution_count": 1,
   "metadata": {},
   "outputs": [],
   "source": [
    "import statsapi\n",
    "import operator\n",
    "import json\n",
    "\n",
    "MLB_teams = [\"Angels\", \"Astros\", \"Athletics\", \"Blue Jays\", \"Braves\", \"Brewers\", \"Cardinals\", \"Cubs\", \"Diamondbacks\", \"Dodgers\", \"Giants\", \"Guardians\", \"Mariners\", \"Marlins\", \"Mets\", \"Nationals\", \"Orioles\", \"Padres\", \"Phillies\", \"Pirates\", \"Rangers\", \"Rays\", \"Red Sox\", \"Reds\", \"Rockies\", \"Royals\", \"Tigers\", \"Twins\", \"White Sox\", \"Yankees\"]\n",
    "def get_team_ID(team_name):\n",
    "    teams = statsapi.lookup_team(team_name)\n",
    "    for team in teams:\n",
    "        if team_name.lower() in team['name'].lower():\n",
    "            return team['id']\n",
    "        else:\n",
    "            print('Team not found')\n",
    "            return 0\n",
    "# Get a full season's game IDs as a list\n",
    "def season_game_IDs(year):\n",
    "    game_IDs= []\n",
    "    for team in MLB_teams:\n",
    "        team_ID = get_team_ID(team)\n",
    "        schedule = statsapi.schedule(start_date=f\"01/01/{year}\",end_date=f\"12/31/{year}\",team= team_ID)\n",
    "        team_schedule = []\n",
    "        for game in schedule:\n",
    "            if game['game_type'] == 'R' and game['away_score'] != game['home_score']:\n",
    "                team_schedule.append(game['game_id'])\n",
    "        for id in team_schedule:\n",
    "            if id not in game_IDs:\n",
    "                game_IDs.append(id)\n",
    "    return game_IDs\n",
    "\n",
    "game_IDs_2023 = season_game_IDs(2023)"
   ]
  },
  {
   "cell_type": "code",
   "execution_count": 13,
   "metadata": {},
   "outputs": [
    {
     "name": "stdout",
     "output_type": "stream",
     "text": [
      "2429\n"
     ]
    }
   ],
   "source": [
    "print(game_IDs_2023.index(717054))"
   ]
  },
  {
   "cell_type": "code",
   "execution_count": null,
   "metadata": {},
   "outputs": [],
   "source": []
  }
 ],
 "metadata": {
  "kernelspec": {
   "display_name": "Python 3",
   "language": "python",
   "name": "python3"
  },
  "language_info": {
   "codemirror_mode": {
    "name": "ipython",
    "version": 3
   },
   "file_extension": ".py",
   "mimetype": "text/x-python",
   "name": "python",
   "nbconvert_exporter": "python",
   "pygments_lexer": "ipython3",
   "version": "3.12.0"
  }
 },
 "nbformat": 4,
 "nbformat_minor": 2
}
